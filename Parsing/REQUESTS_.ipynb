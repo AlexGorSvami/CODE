{
 "cells": [
  {
   "cell_type": "code",
   "execution_count": 8,
   "id": "34b076b6-d9f2-4b8c-a66e-3c019546cad5",
   "metadata": {},
   "outputs": [
    {
     "name": "stdout",
     "output_type": "stream",
     "text": [
      "<class 'requests.models.Response'>\n",
      "{\"ip\":\"82.215.102.105\",\"success\":true,\"type\":\"IPv4\",\"continent\":\"Asia\",\"continent_code\":\"AS\",\"country\":\"Uzbekistan\",\"country_code\":\"UZ\",\"region\":\"Yunusabad district\",\"region_code\":\"\",\"city\":\"Tashkent\",\"latitude\":41.2994958,\"longitude\":69.2400734,\"is_eu\":false,\"postal\":\"100128\",\"calling_code\":\"998\",\"capital\":\"Tashkent\",\"borders\":\"AF,KG,KZ,TJ,TM\",\"flag\":{\"img\":\"https:\\/\\/cdn.ipwhois.io\\/flags\\/uz.svg\",\"emoji\":\"\\ud83c\\uddfa\\ud83c\\uddff\",\"emoji_unicode\":\"U+1F1FA U+1F1FF\"},\"connection\":{\"asn\":59668,\"org\":\"Turon Media XK\",\"isp\":\"Turon Media XK\",\"domain\":\"turontelecom.uz\"},\"timezone\":{\"id\":\"Asia\\/Samarkand\",\"abbr\":\"+05\",\"is_dst\":false,\"offset\":18000,\"utc\":\"+05:00\",\"current_time\":\"2023-08-31T18:13:54+05:00\"}}\n",
      "82.215.102.105\n"
     ]
    }
   ],
   "source": [
    "import requests\n",
    "\n",
    "response = requests.get(url='http://ipwho.is/')\n",
    "print(type(response))\n",
    "print(response.text)\n",
    "\n",
    "response1 = requests.get(url='https://api.ipify.org/?format=json/user-agent')\n",
    "print(response1.text)\n"
   ]
  },
  {
   "cell_type": "code",
   "execution_count": 10,
   "id": "0cff68b9-a7c2-4787-83d7-e090f643ab76",
   "metadata": {
    "editable": true,
    "slideshow": {
     "slide_type": ""
    },
    "tags": []
   },
   "outputs": [
    {
     "name": "stdout",
     "output_type": "stream",
     "text": [
      "{\n",
      "  \"user-agent\": \"Mozilla/5.0 (Windows NT 10.0; Win64; x64) AppleWebKit/537.36 (KHTML, like Gecko) Chrome/99.0.4844.84 Safari/537.36\"\n",
      "}\n",
      "\n"
     ]
    }
   ],
   "source": [
    "import requests\n",
    "headers = {\n",
    "    'user-agent': 'Mozilla/5.0 (Windows NT 10.0; Win64; x64) AppleWebKit/537.36 (KHTML, like Gecko) Chrome/99.0.4844.84 Safari/537.36',\n",
    "}\n",
    "response = requests.get(url='http://httpbin.org/user-agent', headers=headers)\n",
    "print(response.text)"
   ]
  },
  {
   "cell_type": "markdown",
   "id": "bb2d849f-91c1-49a6-b416-404475ab5d0f",
   "metadata": {},
   "source": [
    "Этот код последовательно подставляет user-agent из файла и делает запрос на наш url. Обратите внимание, что в этом примере использовался модуль random и его метод choice для случайного выбора user_agent из файла.\n",
    "\n",
    "Когда вы будете писать свой первый парсер, вы можете использовать первый пример, т.к. он намного проще и нужен чаще всего. Второй пример более сложен, такое необходимо для высокочастотных парсеров  и в тех случаях, когда сервер банит за спам-запросы. В таком случае можно использовать задержки time.sleep(10)."
   ]
  },
  {
   "cell_type": "code",
   "execution_count": null,
   "id": "7b15fdc3-c2b4-4af3-8be5-897412fb8e89",
   "metadata": {},
   "outputs": [],
   "source": [
    "import requests\n",
    "from random import choice\n",
    "\n",
    "url =  'http://httpbin.org/user-agent'\n",
    "\n",
    "with open('user_agent.txt') as f:\n",
    "    lines = f.read().split('\\n')\n",
    "\n",
    "for line in lines:\n",
    "    user_agent = {'user-agent': choice(lines)}\n",
    "    response = requests.get(url=url, headers=user_agent)\n"
   ]
  },
  {
   "cell_type": "code",
   "execution_count": null,
   "id": "ebc4db13-c033-4ddc-97e5-2f80d79b4363",
   "metadata": {},
   "outputs": [],
   "source": [
    "!pip list\n",
    "\n",
    "\n"
   ]
  },
  {
   "cell_type": "code",
   "execution_count": null,
   "id": "db5afc01-01d0-48a6-a93f-28ed4f9edd9d",
   "metadata": {},
   "outputs": [],
   "source": []
  },
  {
   "cell_type": "code",
   "execution_count": null,
   "id": "88964370-33b0-4425-a87a-77e9bc0f8bb5",
   "metadata": {},
   "outputs": [],
   "source": []
  },
  {
   "cell_type": "code",
   "execution_count": null,
   "id": "fee77c43-c6e0-4f8e-a4fd-fce0809e486e",
   "metadata": {},
   "outputs": [],
   "source": []
  },
  {
   "cell_type": "code",
   "execution_count": null,
   "id": "26c6d09b-52e5-4b57-83ee-bda782c37035",
   "metadata": {},
   "outputs": [],
   "source": []
  }
 ],
 "metadata": {
  "kernelspec": {
   "display_name": "Python 3 (ipykernel)",
   "language": "python",
   "name": "python3"
  },
  "language_info": {
   "codemirror_mode": {
    "name": "ipython",
    "version": 3
   },
   "file_extension": ".py",
   "mimetype": "text/x-python",
   "name": "python",
   "nbconvert_exporter": "python",
   "pygments_lexer": "ipython3",
   "version": "3.11.3"
  }
 },
 "nbformat": 4,
 "nbformat_minor": 5
}
