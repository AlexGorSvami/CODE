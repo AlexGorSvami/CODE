{
 "cells": [
  {
   "cell_type": "markdown",
   "id": "8882e690-ea61-4a8a-9dea-a36e1968b576",
   "metadata": {},
   "source": [
    "# Основные настройки numpy\n",
    "\n",
    "При работе с библиотекой numpy, важно знать и уметь настраивать их основные параметры. Это может повысить эффективность и удобство работы с библиотекой.\n",
    "\n",
    "#Numpy - это библитоека для работы с многомерными массивами и  матрицами. \n",
    "Основные настройки numpy:\n",
    "1. np.set_printoptions(precision=n) - определяет количество знаков после запятой при вводе массивов numpy.\n",
    "2. np.set_printoptions(suppress=True) - отключает вывод научной нотации при выводу массивов numpy.\n",
    "3. np.seterr(all='ignore') - игнорирует  все ошибки при выполнении операций с массивами numpy.\n"
   ]
  },
  {
   "cell_type": "markdown",
   "id": "1abf349f-3d04-4053-b66e-cbdaf207b1c7",
   "metadata": {},
   "source": [
    "# СПОСОБЫ   СОЗДАНИЯ ОДНОМЕРНЫХ МАССИВОВ"
   ]
  },
  {
   "cell_type": "code",
   "execution_count": 11,
   "id": "83979473-c2ae-411a-982a-9dd43e5abcbe",
   "metadata": {},
   "outputs": [
    {
     "name": "stdout",
     "output_type": "stream",
     "text": [
      "[1 2 3 4 5]\n",
      "[0 1 2 3 4]\n"
     ]
    }
   ],
   "source": [
    "#Первый   способ\n",
    "import numpy as np\n",
    "np.set_printoptions(precision=5)\n",
    "my_list = [1,2,3,4,5]\n",
    "my_array = np.array(my_list)\n",
    "my_array1 = np.array(range(5))\n",
    "print(my_array)\n",
    "print(my_array1)\n"
   ]
  },
  {
   "cell_type": "code",
   "execution_count": 38,
   "id": "bdda055d-8b66-423a-8f28-c6276a3f1e14",
   "metadata": {},
   "outputs": [
    {
     "name": "stdout",
     "output_type": "stream",
     "text": [
      "[[0. 0. 0.]\n",
      " [0. 0. 0.]\n",
      " [0. 0. 0.]\n",
      " [0. 0. 0.]\n",
      " [0. 0. 0.]]\n",
      "[[1. 1.]\n",
      " [1. 1.]\n",
      " [1. 1.]\n",
      " [1. 1.]]\n",
      "[0.99775 0.25487]\n",
      "[4603581549134298145 4603231609662883391 4602022093595458108\n",
      " 4594099269384025312 4604994370357329256 4590874646936298408\n",
      " 4604722327278109226 4589112179967260208 4603271365097599382\n",
      " 4597131996734260784]\n",
      "[[5 5 5]\n",
      " [5 5 5]]\n"
     ]
    }
   ],
   "source": [
    "#Второй способ - это создание массива с помощью функции zeros, rand и т.п.\n",
    "zeros_array = np.zeros((5,3))\n",
    "ones_array = np.ones((4,2))\n",
    "random_array = np.random.rand(2) # функция np.random.zeros создает массив со значениями от 0 до 1;\n",
    "print(zeros_array)\n",
    "print(ones_array)\n",
    "print(random_array)\n",
    "print(np.empty(10, dtype=int))\n",
    "#Наконец в numpy есть функция full(), которая создает массив заданной формы, заполненный заданным значением.\n",
    "#Синтаксис функции для одномерного использования:\n",
    "#np.full(shape, fill_value, dtype=None)\n",
    "print(np.full((2,3),5))"
   ]
  },
  {
   "cell_type": "code",
   "execution_count": 25,
   "id": "6f6cf6df-3203-4cfb-9033-b80373f1f9b6",
   "metadata": {},
   "outputs": [
    {
     "name": "stdout",
     "output_type": "stream",
     "text": [
      "[1 2 3 4 5]\n",
      "[1. 2. 3. 4. 5.]\n"
     ]
    }
   ],
   "source": [
    "#Третий способ - это создание массивов с помощью функции arange() and linspace()\n",
    "print(np.arange(1,6))\n",
    "print(np.linspace(1,5,5))\n",
    "# np.arange() создает содержащий последовательность символов от n до n включительно\n",
    "# np.linspace() создает содержащий последовательность символов от n до n включительно разделенное на определенное\n",
    "#количество равных промежутков"
   ]
  },
  {
   "cell_type": "code",
   "execution_count": null,
   "id": "b0de771c-9e97-472a-bdb8-8f3878d98a52",
   "metadata": {},
   "outputs": [],
   "source": [
    "#Четвертый способ - создание с помощтю ввода пользователя \n",
    "user_input = input('Введите несколько чисел разделенных пробелом: ')\n",
    "user_array = np.array(user_input.split(), dtype=float)\n",
    "print(user_array)\n",
    "\n",
    "#также   массив  можно создать  при   помощи  функции fromstring\n",
    "#numpy.fromstring(string, dtype=float, count=-1, sep='')\n",
    "# Параметры\n",
    "# - string: входная строка, представляющая элементы массива.\n",
    "# - dtype: тип данных элементов массива. По умолчанию равен float.\n",
    "# - count: количество элементов, которые следует считать. \n",
    "# Если указать -1 (по умолчанию), будут считаны все элементы.\n",
    "# - sep: разделитель между элементами. \n",
    "# Если разделитель не указан или равен пустой строке (по умолчанию), строка должна быть закодирована в двоичном формате. \n",
    "# Если разделитель указан, строка будет разделена данным разделителем.\n",
    "data = '1,2,3,4,5'\n",
    "arr = np.fromstring(data, dtype=np.int32, sep=',')\n",
    "print(arr)"
   ]
  },
  {
   "cell_type": "code",
   "execution_count": null,
   "id": "0b6bb7b4-9dd2-413c-901b-cd5e13b4acc6",
   "metadata": {},
   "outputs": [],
   "source": [
    "#Пятый способ - создание новых ассивов по форме других массивов\n",
    "a =  np.array([1,2,3,4])\n",
    "b = np.zeros_like(a)\n",
    "print(b)"
   ]
  },
  {
   "cell_type": "markdown",
   "id": "3b96ed1b-74b2-44a3-992f-7e427a6b470d",
   "metadata": {},
   "source": [
    "Создайте одномерный numpy массив чисел от 0 до 9 и выведите его на экран. Не забудьте импортировать библиотеку."
   ]
  },
  {
   "cell_type": "code",
   "execution_count": 39,
   "id": "dc74a2c2-0706-4607-b249-a40db9481ae2",
   "metadata": {},
   "outputs": [
    {
     "name": "stdout",
     "output_type": "stream",
     "text": [
      "[0 1 2 3 4 5 6 7 8 9]\n"
     ]
    }
   ],
   "source": [
    "import numpy as  np\n",
    "print(np.arange(10))"
   ]
  },
  {
   "cell_type": "markdown",
   "id": "b1ba6007-ddff-4f06-bba9-622f5df9a7e6",
   "metadata": {},
   "source": [
    "Создайте массив из первых 10 нечетных чисел и выведите его на экран.\n"
   ]
  },
  {
   "cell_type": "code",
   "execution_count": 41,
   "id": "212ce084-221e-427b-9c02-c4726f7b2a0f",
   "metadata": {},
   "outputs": [
    {
     "name": "stdout",
     "output_type": "stream",
     "text": [
      "[ 1  3  5  7  9 11 13 15 17 19]\n",
      "[ 1  3  5  7  9 11 13 15 17 19]\n"
     ]
    }
   ],
   "source": [
    "import numpy as np\n",
    "print(np.array([i for i in range(1,20) if i % 2 != 0]))\n",
    "print(np.arange(1,20,2))"
   ]
  },
  {
   "cell_type": "markdown",
   "id": "88e2c46d-c554-4b8b-829a-34097921a8f4",
   "metadata": {},
   "source": [
    "Создайте массив numpy, содержащий числа от 1 до 10, включительно, с шагом 0.5, выведите его на экран.\n"
   ]
  },
  {
   "cell_type": "code",
   "execution_count": 43,
   "id": "3aa098c9-f2d9-48c7-a6d0-d39ae4c10e04",
   "metadata": {},
   "outputs": [
    {
     "name": "stdout",
     "output_type": "stream",
     "text": [
      "[ 1.   1.5  2.   2.5  3.   3.5  4.   4.5  5.   5.5  6.   6.5  7.   7.5\n",
      "  8.   8.5  9.   9.5 10. ]\n"
     ]
    }
   ],
   "source": [
    "import numpy  as np\n",
    "print(np.arange(1,10.5,0.5))"
   ]
  },
  {
   "cell_type": "markdown",
   "id": "ab523491-fe6f-4d52-ae01-d87fe23bb8a2",
   "metadata": {},
   "source": [
    "Создайте массив, содержащий 10 равноудаленных элементов в интервале от -5 до 5"
   ]
  },
  {
   "cell_type": "code",
   "execution_count": 45,
   "id": "80a422d6-ab26-4fca-b204-7e7c58dcbe9f",
   "metadata": {},
   "outputs": [
    {
     "name": "stdout",
     "output_type": "stream",
     "text": [
      "[-5.      -3.88889 -2.77778 -1.66667 -0.55556  0.55556  1.66667  2.77778\n",
      "  3.88889  5.     ]\n"
     ]
    }
   ],
   "source": [
    "import numpy  as  np\n",
    "print(np.linspace(-5,5,10))"
   ]
  },
  {
   "cell_type": "markdown",
   "id": "4dd741b1-bcd0-43d3-8c6d-b40eb4e137b2",
   "metadata": {},
   "source": [
    "Создайте массив, содержащий числа от 10 до 1 в обратном порядке."
   ]
  },
  {
   "cell_type": "code",
   "execution_count": 46,
   "id": "1757414b-1c31-400e-8764-bca9545a0a4d",
   "metadata": {},
   "outputs": [
    {
     "name": "stdout",
     "output_type": "stream",
     "text": [
      "[10  9  8  7  6  5  4  3  2  1]\n"
     ]
    }
   ],
   "source": [
    "import numpy as np\n",
    "print(np.arange(10,0,-1))"
   ]
  },
  {
   "cell_type": "markdown",
   "id": "a71fcdb0-26fc-4eb8-bd27-35e68e121cd6",
   "metadata": {},
   "source": [
    "На вход подаются 2 числа a и b в виде строки чисел через пробел. Создайте массив NumPy, содержащий числа от a до b включительно, кратные 3, выведите его на экран"
   ]
  },
  {
   "cell_type": "code",
   "execution_count": 47,
   "id": "53b39c33-bfd0-4a7e-82d0-65f6f00d5546",
   "metadata": {},
   "outputs": [
    {
     "name": "stdin",
     "output_type": "stream",
     "text": [
      " 0 3\n"
     ]
    },
    {
     "name": "stdout",
     "output_type": "stream",
     "text": [
      "[0 3]\n"
     ]
    }
   ],
   "source": [
    "import numpy as  np\n",
    "start,stop  = map(int, input().split())\n",
    "print(np.array([i for i in range(start,stop+1) if i % 3 == 0]))"
   ]
  },
  {
   "cell_type": "markdown",
   "id": "f743efa2-b37e-4836-b1b3-c074a9495d94",
   "metadata": {},
   "source": [
    "На вход подается целое число n. Cоздайте массив из n случайных действительных чисел в интервале от 0 до 1 не включительно."
   ]
  },
  {
   "cell_type": "code",
   "execution_count": 48,
   "id": "e1b583f4-6c9f-4d8f-873d-44b74762fdc0",
   "metadata": {},
   "outputs": [
    {
     "name": "stdin",
     "output_type": "stream",
     "text": [
      " 10\n"
     ]
    },
    {
     "name": "stdout",
     "output_type": "stream",
     "text": [
      "[0.85889 0.37271 0.55513 0.95566 0.73667 0.81621 0.10109 0.92849 0.60911\n",
      " 0.59655]\n"
     ]
    }
   ],
   "source": [
    "import numpy as np\n",
    "np.random.seed(32)\n",
    "print(np.random.rand(int(input())))"
   ]
  },
  {
   "cell_type": "code",
   "execution_count": null,
   "id": "c01afacf-f631-4dcc-918b-062f9cb12148",
   "metadata": {},
   "outputs": [],
   "source": []
  },
  {
   "cell_type": "code",
   "execution_count": null,
   "id": "3db008bb-aff5-47e7-adfe-8853cedd5ac7",
   "metadata": {},
   "outputs": [],
   "source": [
    "%lsmagic"
   ]
  }
 ],
 "metadata": {
  "kernelspec": {
   "display_name": "Python 3 (ipykernel)",
   "language": "python",
   "name": "python3"
  },
  "language_info": {
   "codemirror_mode": {
    "name": "ipython",
    "version": 3
   },
   "file_extension": ".py",
   "mimetype": "text/x-python",
   "name": "python",
   "nbconvert_exporter": "python",
   "pygments_lexer": "ipython3",
   "version": "3.11.3"
  },
  "widgets": {
   "application/vnd.jupyter.widget-state+json": {
    "state": {},
    "version_major": 2,
    "version_minor": 0
   }
  }
 },
 "nbformat": 4,
 "nbformat_minor": 5
}
