{
 "cells": [
  {
   "cell_type": "markdown",
   "id": "c989b893-c8c6-4e3b-9bb6-2aa5d86ab945",
   "metadata": {},
   "source": [
    "# 3 главных игрока на рынке мировых облачных сервисов\n",
    "1. amazon web services\n",
    "2. microsoft azure\n",
    "3. google cloud platform"
   ]
  },
  {
   "cell_type": "markdown",
   "id": "24697929-4671-4e38-b4a6-493c28ec0a37",
   "metadata": {},
   "source": [
    "# Сертификаты amazon с чего начать\n",
    "### solutions-architect -> Developer -> SysOps Administrator -> Devops Engineer -> Solution Architect Professionall\n",
    "### Доп: BigData, Advanced Networking\n",
    "\n",
    "# Термины\n",
    "- Availability  Zone - Изолированный дата центр\n",
    "-  us-west1 (us-west-1) California\n",
    "-  us-east-2 Ohio\n",
    "- us-west-2 Oregon\n",
    "-  ap-south1 - Mumbai\n",
    "-  ap-northeast-2 Seol\n",
    "-  ap-southeast-1 Singapore\n",
    "-  ap-southeast-1 Tokyo\n",
    "-  ca-central-1(Canada(Central))\n",
    "-  eu-central-1 Frankfurt\n",
    "-  eu-west-1 Ireland\n",
    "-  eu-west-2 London\n",
    "-  sa-east-1 Sao Paulo"
   ]
  },
  {
   "cell_type": "markdown",
   "id": "1aa99707-8ace-4a96-88d3-c6cedd97e467",
   "metadata": {},
   "source": [
    "- EC2 instances - виртуальные серверы\n",
    "- VPC - виртуальные сети\n",
    "- S3Bucket - Unlimited Web space(неограниченное веб пространство)\n",
    "- S3Web Hosting - Web Sites Hosting(хочтинг веб сайтов)\n",
    "- Route53 - Domain registration, DNS\n",
    "- RDS, DynamoDB  - SQL and NoSQL Databases(базы данных)\n",
    "- CloudFormation - Infrastructure   as Code(инфроструктура кода)\n",
    "- Elastic Beanstalk - Automation(автоматизация)\n",
    "- Devops\n",
    "\n",
    "# Основные сервисы amazon\n",
    "- Amazon  EC2 - виртуальне сервера(instance похоже на расский сервер)\n",
    "- Elastic Load Balancing - эластичная загрузка баланса, помашает распределить нагрузку на серверы\n",
    "- AWS Elastic Beanstalk позволяет создать сайт по скрипту автоматически загружая всё\n",
    "- Amazon CloudFront - сервера для хранения кэша\n",
    "- AmazonCloudWatch - мониторинг всей  инфраструктуры сервера\n",
    "- AMAZON S3 simple storage service -  простое хранишище файлов\n",
    "- AMAZON Glacer - архивирование данных - сервис  для  храниения огромных архивированных фалов (очень дешевый)\n",
    "- AMAZON   EFS  -  хард диск который можно подключить к нескольким серверам\n",
    "- AWS CloudFormation - инфраструктуа в коде\n",
    "- AWS OpsWorks - загружает рескпи шефа\n",
    "- AMAZON RDS - relationship data system БД\n",
    "- AMAZON DynamoDB - версия nosql  от амазон\n",
    "- Amazon   Redshift - быстрая система анализа  больших  данных\n",
    "- Amazon  EMR - сервис для  работы  с big data\n",
    "- Amazon IAM - identify  access managment здесь   производиться вся работа с   пользователями и правами\n",
    "- Amazon VPC -  virtual private cloud виртуальная сеть   предлагающая доступ  к скрвису amazon  \n",
    "- Amazon   Route 53 - dns сервер амазона(домены) работает через порт 53\n",
    "- AMAZON SES - simple email services это сервис с оплатой по мере использования для работы с почтой\n",
    "- AMAZON SNS - управляемый сервс для отправки соощений для установления связей\n",
    "- AMAZON SQS - simple queue services сервис для разделения и связывания компонентов с помощью очередей"
   ]
  },
  {
   "cell_type": "code",
   "execution_count": null,
   "id": "026a774d-9847-4449-aadc-f35b491d6db4",
   "metadata": {},
   "outputs": [],
   "source": []
  },
  {
   "cell_type": "code",
   "execution_count": null,
   "id": "aa23a13c-da2f-41e1-be27-063acefc734c",
   "metadata": {},
   "outputs": [],
   "source": []
  }
 ],
 "metadata": {
  "kernelspec": {
   "display_name": "Python 3 (ipykernel)",
   "language": "python",
   "name": "python3"
  },
  "language_info": {
   "codemirror_mode": {
    "name": "ipython",
    "version": 3
   },
   "file_extension": ".py",
   "mimetype": "text/x-python",
   "name": "python",
   "nbconvert_exporter": "python",
   "pygments_lexer": "ipython3",
   "version": "3.11.3"
  }
 },
 "nbformat": 4,
 "nbformat_minor": 5
}
