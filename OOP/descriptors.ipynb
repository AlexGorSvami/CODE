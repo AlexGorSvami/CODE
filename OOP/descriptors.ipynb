{
 "cells": [
  {
   "cell_type": "code",
   "execution_count": 3,
   "id": "eaa3039d-ef80-4b15-9e44-e37b266cfe51",
   "metadata": {},
   "outputs": [
    {
     "name": "stdout",
     "output_type": "stream",
     "text": [
      "{'_x': 1, '_y': 2, '_z': 3}\n"
     ]
    }
   ],
   "source": [
    "class Point3D:\n",
    "    def __init__(self, x, y, z):\n",
    "        self.x = x\n",
    "        self.y = y\n",
    "        self.z = z\n",
    "\n",
    "    @classmethod\n",
    "    def verify_coord(cls, coord):\n",
    "        if not isinstance(coord, int):\n",
    "            raise TypeError('coord must be int!')\n",
    "\n",
    "    @property\n",
    "    def x(self):\n",
    "        return self._x\n",
    "\n",
    "    @x.setter\n",
    "    def x(self, coord):\n",
    "        self.verify_coord(coord)\n",
    "        self._x = coord\n",
    "\n",
    "    @property\n",
    "    def y(self):\n",
    "        return self._y\n",
    "\n",
    "    @y.setter\n",
    "    def y(self, coord):\n",
    "        self.verify_coord(coord)\n",
    "        self._y = coord\n",
    "\n",
    "    @property\n",
    "    def z(self):\n",
    "        return self._z\n",
    "\n",
    "    @z.setter\n",
    "    def z(self, coord):\n",
    "        self.verify_coord(coord)\n",
    "        self._z = coord    \n",
    "\n",
    "p = Point3D(1, 2, 3)\n",
    "print(p.__dict__)\n",
    "        "
   ]
  },
  {
   "cell_type": "code",
   "execution_count": 19,
   "id": "e58088aa-a37a-4ffa-aaac-605a60f15ca2",
   "metadata": {},
   "outputs": [
    {
     "name": "stdout",
     "output_type": "stream",
     "text": [
      "1 {'_x': 1, '_y': 2, '_z': 3, 'xr': 5}\n"
     ]
    }
   ],
   "source": [
    "class Integer:\n",
    "    @classmethod\n",
    "    def verify_coord(cls, coord):\n",
    "        if not isinstance(coord, int):\n",
    "            raise TypeError('coord must be int!')\n",
    "            \n",
    "    def __set_name__(self, owner, name):\n",
    "        self.name = '_' + name\n",
    "\n",
    "    def __get__(self, instance, owner):\n",
    "        return getattr(instance, self.name)\n",
    "        # return instance.__dict__[self.name]\n",
    "\n",
    "    def __set__(self, instance, value):\n",
    "        self.verify_coord(value)\n",
    "        setattr(instance, self.name, value)\n",
    "        # instance.__dict__[self.name] = value\n",
    "\n",
    "class ReadIntX:\n",
    "    def __set_name__(self, owner, name):\n",
    "        self.name = '_x'\n",
    "\n",
    "    def __get__(self, instance, owner):\n",
    "        return getattr(instance, self.name)\n",
    "\n",
    "    def __set__(self, owner, name):\n",
    "        setattr(instance, self.name, value)\n",
    "\n",
    "class Point3D:\n",
    "    x = Integer()\n",
    "    y = Integer()\n",
    "    z = Integer()\n",
    "    xr = ReadIntX()\n",
    "    \n",
    "    def __init__(self, x, y, z):\n",
    "        self.x = x\n",
    "        self.y = y\n",
    "        self.z = z\n",
    "\n",
    "\n",
    "\n",
    "\n",
    "p = Point3D(1,2,3)\n",
    "p.__dict__['xr'] = 5\n",
    "print(p.xr, p.__dict__)\n",
    "            "
   ]
  },
  {
   "cell_type": "code",
   "execution_count": null,
   "id": "be22b652-a7a1-43b3-8bca-4d498e8029d5",
   "metadata": {},
   "outputs": [],
   "source": []
  },
  {
   "cell_type": "code",
   "execution_count": null,
   "id": "c26cd8ba-3a36-410f-971f-d7abdb81346e",
   "metadata": {},
   "outputs": [],
   "source": []
  },
  {
   "cell_type": "code",
   "execution_count": null,
   "id": "ad9347bc-134e-4a8f-8f27-fce49b520827",
   "metadata": {},
   "outputs": [],
   "source": []
  },
  {
   "cell_type": "code",
   "execution_count": null,
   "id": "8950d1da-17a1-4ed6-96fe-03007055ad9c",
   "metadata": {},
   "outputs": [],
   "source": []
  },
  {
   "cell_type": "code",
   "execution_count": null,
   "id": "7945048d-b512-47af-8e1f-120e50503cc8",
   "metadata": {},
   "outputs": [],
   "source": []
  },
  {
   "cell_type": "code",
   "execution_count": null,
   "id": "782b513e-d057-40d0-86d6-27ddef527b9e",
   "metadata": {},
   "outputs": [],
   "source": []
  },
  {
   "cell_type": "code",
   "execution_count": null,
   "id": "c0f83948-c9b9-49b4-9d9c-5b8790c815e1",
   "metadata": {},
   "outputs": [],
   "source": []
  },
  {
   "cell_type": "code",
   "execution_count": null,
   "id": "0b79d0ba-3f72-4927-88f4-4ee583d95949",
   "metadata": {},
   "outputs": [],
   "source": []
  },
  {
   "cell_type": "code",
   "execution_count": null,
   "id": "47d12397-9ef0-4706-a01b-418fb58b7b6a",
   "metadata": {},
   "outputs": [],
   "source": []
  },
  {
   "cell_type": "code",
   "execution_count": null,
   "id": "86bfb218-6132-4739-8b29-d91a3c7aadd7",
   "metadata": {},
   "outputs": [],
   "source": []
  },
  {
   "cell_type": "code",
   "execution_count": null,
   "id": "712ec402-e3de-4810-81c3-a5b93afc3af1",
   "metadata": {},
   "outputs": [],
   "source": []
  },
  {
   "cell_type": "code",
   "execution_count": null,
   "id": "b538f6b4-d29d-45dd-b878-0d47dd5b6ea1",
   "metadata": {},
   "outputs": [],
   "source": []
  },
  {
   "cell_type": "code",
   "execution_count": null,
   "id": "e74ff05d-175a-4a89-99d9-44058b24f5d7",
   "metadata": {},
   "outputs": [],
   "source": []
  },
  {
   "cell_type": "code",
   "execution_count": null,
   "id": "b26b7b1c-2057-42a3-b6dd-62d6b5aa9a33",
   "metadata": {},
   "outputs": [],
   "source": []
  }
 ],
 "metadata": {
  "kernelspec": {
   "display_name": "Python 3 (ipykernel)",
   "language": "python",
   "name": "python3"
  },
  "language_info": {
   "codemirror_mode": {
    "name": "ipython",
    "version": 3
   },
   "file_extension": ".py",
   "mimetype": "text/x-python",
   "name": "python",
   "nbconvert_exporter": "python",
   "pygments_lexer": "ipython3",
   "version": "3.11.5"
  }
 },
 "nbformat": 4,
 "nbformat_minor": 5
}
