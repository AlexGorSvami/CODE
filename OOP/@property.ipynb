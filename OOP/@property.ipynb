{
 "cells": [
  {
   "cell_type": "code",
   "execution_count": 4,
   "id": "3258edab-ac35-469e-963d-744ebb7031d8",
   "metadata": {},
   "outputs": [
    {
     "name": "stdout",
     "output_type": "stream",
     "text": [
      "33\n",
      "40 {'_Person__name': 'Valera', '_Person__old': 40}\n"
     ]
    }
   ],
   "source": [
    "class Person:\n",
    "    def __init__(self, name, old):\n",
    "        self.__name = name \n",
    "        self.__old = old\n",
    "\n",
    "    def get_old(self):\n",
    "        return self.__old\n",
    "\n",
    "    def set_old(self, value):\n",
    "        self.__old = value\n",
    "\n",
    "    old = property(get_old, set_old  )\n",
    "\n",
    "p = Person('Valera', 23)\n",
    "p.set_old(33)\n",
    "print(p.get_old())\n",
    "p.old = 40\n",
    "print(p.old, p.__dict__)\n",
    "        "
   ]
  },
  {
   "cell_type": "code",
   "execution_count": 5,
   "id": "4ebbf707-f4d7-4bc5-bacb-50ec0761c0cc",
   "metadata": {},
   "outputs": [
    {
     "name": "stdout",
     "output_type": "stream",
     "text": [
      "16\n"
     ]
    }
   ],
   "source": [
    "class Person:\n",
    "    def __init__(self, name, old):\n",
    "        self.__name = name \n",
    "        self.__old = old\n",
    "\n",
    "    def get_old(self):\n",
    "        return self.__old\n",
    "\n",
    "    def set_old(self, value):\n",
    "        self.__old = value\n",
    "\n",
    "    old = property()\n",
    "    old = old.setter(set_old)\n",
    "    old = old.getter(get_old)\n",
    "\n",
    "p = Person('Valik', 16)\n",
    "print(p.old)"
   ]
  },
  {
   "cell_type": "code",
   "execution_count": 13,
   "id": "1e4731bc-2f18-4c78-9f02-bb6839d0528d",
   "metadata": {},
   "outputs": [
    {
     "name": "stdout",
     "output_type": "stream",
     "text": [
      "{'_Person__name': 'Valik'}\n"
     ]
    }
   ],
   "source": [
    "class Person:\n",
    "    def __init__(self, name, old):\n",
    "        self.__name = name \n",
    "        self.__old = old\n",
    "\n",
    "    @property\n",
    "    def old(self):\n",
    "        return self.__old\n",
    "\n",
    "    @old.setter\n",
    "    def old(self, value):\n",
    "        self.__old = value\n",
    "\n",
    "    @old.deleter\n",
    "    def old(self):\n",
    "        del self.__old\n",
    "\n",
    "\n",
    "\n",
    "p = Person('Valik', 16)\n",
    "\n",
    "p.old = 23\n",
    "del p.old\n",
    "print(p.__dict__)\n"
   ]
  },
  {
   "cell_type": "code",
   "execution_count": 18,
   "id": "680563cd-8fe3-4bd2-9e4f-00ced721cdf8",
   "metadata": {},
   "outputs": [
    {
     "name": "stdout",
     "output_type": "stream",
     "text": [
      "ad\n"
     ]
    }
   ],
   "source": [
    "class Car:\n",
    "    def __init__(self, model=None):\n",
    "        self.__model = model\n",
    "\n",
    "    @property\n",
    "    def model(self):\n",
    "        return self.__model\n",
    "\n",
    "    @model.setter\n",
    "    def model(self, value):\n",
    "        if isinstance(value, str) and 1 < len(value) < 100:\n",
    "            self.__model = value\n",
    "\n",
    "car = Car()\n",
    "car.model = 'Toyota'\n",
    "print(car.model)"
   ]
  },
  {
   "cell_type": "code",
   "execution_count": 28,
   "id": "cb2f3602-8f2c-42ce-9d75-4aeb2f9ca4fa",
   "metadata": {},
   "outputs": [
    {
     "name": "stdout",
     "output_type": "stream",
     "text": [
      "Win: 32, 45\n",
      "Win: 32, 322\n"
     ]
    }
   ],
   "source": [
    "class WindowDlg:\n",
    "    def __init__(self, title, width, height):\n",
    "        self.__title = title\n",
    "        self.__width = width\n",
    "        self.__height = height\n",
    "\n",
    "    \n",
    "    def show(self):\n",
    "        print(f'{self.__title}: {self.__width}, {self.height}')\n",
    "\n",
    "    @property\n",
    "    def width(self):\n",
    "        return self.__width\n",
    "\n",
    "    @width.setter\n",
    "    def width(self, value):\n",
    "        if isinstance(value, int) and 10000 > value > 0:\n",
    "            self.__width = value\n",
    "            self.show()\n",
    "\n",
    "    @property\n",
    "    def height(self):\n",
    "        return self.__height\n",
    "\n",
    "    @height.setter\n",
    "    def height(self, value):\n",
    "        if isinstance(value, int) and 10000 > value > 0:\n",
    "            self.__height = value\n",
    "            self.show()\n",
    "\n",
    "wnd = WindowDlg('Win', 32, 45)\n",
    "wnd.show()\n",
    "wnd.height = 322\n",
    "\n",
    "\n",
    "\n",
    "        "
   ]
  },
  {
   "cell_type": "code",
   "execution_count": 34,
   "id": "e34afc52-799f-4b0b-b777-f4e1aff299bf",
   "metadata": {},
   "outputs": [
    {
     "name": "stdout",
     "output_type": "stream",
     "text": [
      "['obj1', 'obj2']\n"
     ]
    }
   ],
   "source": [
    "class StackObj:\n",
    "    def __init__(self, data=None, next=None):\n",
    "        self.__data = data\n",
    "        self.__next = next\n",
    "\n",
    "    @property\n",
    "    def data(self):\n",
    "        return self.__data\n",
    "\n",
    "    @data.setter\n",
    "    def data(self, value):\n",
    "        self.data = value\n",
    "\n",
    "    @property\n",
    "    def next(self):\n",
    "        return self.__next\n",
    "\n",
    "    @next.setter\n",
    "    def next(self, value):\n",
    "        if isinstance(value, StackObj) or value is None:\n",
    "            self.__next = value\n",
    "        \n",
    "class Stack:\n",
    "    def __init__(self):\n",
    "        self.top = None\n",
    "        self.last = None\n",
    "\n",
    "    def push(self, obj):\n",
    "        if self.last:\n",
    "            self.last.next = obj\n",
    "        self.last = obj\n",
    "        if self.top is None:\n",
    "            self.top = obj\n",
    "\n",
    "    def pop(self):\n",
    "        high = self.top\n",
    "        if high is None:\n",
    "            return\n",
    "        while high and high.next != self.last:\n",
    "            high = high.next\n",
    "        if high:\n",
    "            high.next = None\n",
    "        last = self.last\n",
    "        self.last = high\n",
    "        if self.last is None:\n",
    "            self.top = None\n",
    "\n",
    "        return last\n",
    "\n",
    "    def get_data(self):\n",
    "        res = []\n",
    "        high = self.top\n",
    "        while high:\n",
    "            res.append(high.data)\n",
    "            high = high.next\n",
    "        return res\n",
    "        \n",
    "\n",
    "st = Stack()\n",
    "st.push(StackObj(\"obj1\"))\n",
    "st.push(StackObj(\"obj2\"))\n",
    "st.push(StackObj(\"obj3\"))\n",
    "st.pop()\n",
    "res = st.get_data()    # ['obj1', 'obj2']\n",
    "print(res)"
   ]
  },
  {
   "cell_type": "code",
   "execution_count": 1,
   "id": "461c8c22-718b-4a98-94d9-2624779337c6",
   "metadata": {},
   "outputs": [
    {
     "name": "stdout",
     "output_type": "stream",
     "text": [
      "['obj1', 'obj2']\n"
     ]
    }
   ],
   "source": []
  },
  {
   "cell_type": "code",
   "execution_count": null,
   "id": "2ce60255-6083-4537-a0ae-5ab388c4b37a",
   "metadata": {},
   "outputs": [],
   "source": []
  },
  {
   "cell_type": "code",
   "execution_count": null,
   "id": "216cddf7-42dd-48cd-8a0e-e94ca3f82964",
   "metadata": {},
   "outputs": [],
   "source": []
  },
  {
   "cell_type": "code",
   "execution_count": null,
   "id": "c50e3f5f-e6ef-4977-bd70-1c8f7adbb409",
   "metadata": {},
   "outputs": [],
   "source": []
  },
  {
   "cell_type": "code",
   "execution_count": null,
   "id": "17867cb7-d86e-426b-9966-a91e0e114d93",
   "metadata": {},
   "outputs": [],
   "source": []
  },
  {
   "cell_type": "code",
   "execution_count": null,
   "id": "c59e3709-4dd6-4f3f-a52a-d9acf01bf859",
   "metadata": {},
   "outputs": [],
   "source": []
  }
 ],
 "metadata": {
  "kernelspec": {
   "display_name": "Python 3 (ipykernel)",
   "language": "python",
   "name": "python3"
  },
  "language_info": {
   "codemirror_mode": {
    "name": "ipython",
    "version": 3
   },
   "file_extension": ".py",
   "mimetype": "text/x-python",
   "name": "python",
   "nbconvert_exporter": "python",
   "pygments_lexer": "ipython3",
   "version": "3.11.5"
  }
 },
 "nbformat": 4,
 "nbformat_minor": 5
}
