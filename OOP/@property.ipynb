{
 "cells": [
  {
   "cell_type": "code",
   "execution_count": 4,
   "id": "3258edab-ac35-469e-963d-744ebb7031d8",
   "metadata": {},
   "outputs": [
    {
     "name": "stdout",
     "output_type": "stream",
     "text": [
      "33\n",
      "40 {'_Person__name': 'Valera', '_Person__old': 40}\n"
     ]
    }
   ],
   "source": [
    "class Person:\n",
    "    def __init__(self, name, old):\n",
    "        self.__name = name \n",
    "        self.__old = old\n",
    "\n",
    "    def get_old(self):\n",
    "        return self.__old\n",
    "\n",
    "    def set_old(self, value):\n",
    "        self.__old = value\n",
    "\n",
    "    old = property(get_old, set_old  )\n",
    "\n",
    "p = Person('Valera', 23)\n",
    "p.set_old(33)\n",
    "print(p.get_old())\n",
    "p.old = 40\n",
    "print(p.old, p.__dict__)\n",
    "        "
   ]
  },
  {
   "cell_type": "code",
   "execution_count": 5,
   "id": "4ebbf707-f4d7-4bc5-bacb-50ec0761c0cc",
   "metadata": {},
   "outputs": [
    {
     "name": "stdout",
     "output_type": "stream",
     "text": [
      "16\n"
     ]
    }
   ],
   "source": [
    "class Person:\n",
    "    def __init__(self, name, old):\n",
    "        self.__name = name \n",
    "        self.__old = old\n",
    "\n",
    "    def get_old(self):\n",
    "        return self.__old\n",
    "\n",
    "    def set_old(self, value):\n",
    "        self.__old = value\n",
    "\n",
    "    old = property()\n",
    "    old = old.setter(set_old)\n",
    "    old = old.getter(get_old)\n",
    "\n",
    "p = Person('Valik', 16)\n",
    "print(p.old)"
   ]
  },
  {
   "cell_type": "code",
   "execution_count": 13,
   "id": "1e4731bc-2f18-4c78-9f02-bb6839d0528d",
   "metadata": {},
   "outputs": [
    {
     "name": "stdout",
     "output_type": "stream",
     "text": [
      "{'_Person__name': 'Valik'}\n"
     ]
    }
   ],
   "source": [
    "class Person:\n",
    "    def __init__(self, name, old):\n",
    "        self.__name = name \n",
    "        self.__old = old\n",
    "\n",
    "    @property\n",
    "    def old(self):\n",
    "        return self.__old\n",
    "\n",
    "    @old.setter\n",
    "    def old(self, value):\n",
    "        self.__old = value\n",
    "\n",
    "    @old.deleter\n",
    "    def old(self):\n",
    "        del self.__old\n",
    "\n",
    "\n",
    "\n",
    "p = Person('Valik', 16)\n",
    "\n",
    "p.old = 23\n",
    "del p.old\n",
    "print(p.__dict__)\n"
   ]
  },
  {
   "cell_type": "code",
   "execution_count": 18,
   "id": "680563cd-8fe3-4bd2-9e4f-00ced721cdf8",
   "metadata": {},
   "outputs": [
    {
     "name": "stdout",
     "output_type": "stream",
     "text": [
      "ad\n"
     ]
    }
   ],
   "source": [
    "class Car:\n",
    "    def __init__(self, model=None):\n",
    "        self.__model = model\n",
    "\n",
    "    @property\n",
    "    def model(self):\n",
    "        return self.__model\n",
    "\n",
    "    @model.setter\n",
    "    def model(self, value):\n",
    "        if isinstance(value, str) and 1 < len(value) < 100:\n",
    "            self.__model = value\n",
    "\n",
    "car = Car()\n",
    "car.model = 'Toyota'\n",
    "print(car.model)"
   ]
  },
  {
   "cell_type": "code",
   "execution_count": 28,
   "id": "cb2f3602-8f2c-42ce-9d75-4aeb2f9ca4fa",
   "metadata": {},
   "outputs": [
    {
     "name": "stdout",
     "output_type": "stream",
     "text": [
      "Win: 32, 45\n",
      "Win: 32, 322\n"
     ]
    }
   ],
   "source": [
    "class WindowDlg:\n",
    "    def __init__(self, title, width, height):\n",
    "        self.__title = title\n",
    "        self.__width = width\n",
    "        self.__height = height\n",
    "\n",
    "    \n",
    "    def show(self):\n",
    "        print(f'{self.__title}: {self.__width}, {self.height}')\n",
    "\n",
    "    @property\n",
    "    def width(self):\n",
    "        return self.__width\n",
    "\n",
    "    @width.setter\n",
    "    def width(self, value):\n",
    "        if isinstance(value, int) and 10000 > value > 0:\n",
    "            self.__width = value\n",
    "            self.show()\n",
    "\n",
    "    @property\n",
    "    def height(self):\n",
    "        return self.__height\n",
    "\n",
    "    @height.setter\n",
    "    def height(self, value):\n",
    "        if isinstance(value, int) and 10000 > value > 0:\n",
    "            self.__height = value\n",
    "            self.show()\n",
    "\n",
    "wnd = WindowDlg('Win', 32, 45)\n",
    "wnd.show()\n",
    "wnd.height = 322\n",
    "\n",
    "\n",
    "\n",
    "        "
   ]
  },
  {
   "cell_type": "code",
   "execution_count": 34,
   "id": "e34afc52-799f-4b0b-b777-f4e1aff299bf",
   "metadata": {},
   "outputs": [
    {
     "name": "stdout",
     "output_type": "stream",
     "text": [
      "['obj1', 'obj2']\n"
     ]
    }
   ],
   "source": [
    "class StackObj:\n",
    "    def __init__(self, data=None, next=None):\n",
    "        self.__data = data\n",
    "        self.__next = next\n",
    "\n",
    "    @property\n",
    "    def data(self):\n",
    "        return self.__data\n",
    "\n",
    "    @data.setter\n",
    "    def data(self, value):\n",
    "        self.data = value\n",
    "\n",
    "    @property\n",
    "    def next(self):\n",
    "        return self.__next\n",
    "\n",
    "    @next.setter\n",
    "    def next(self, value):\n",
    "        if isinstance(value, StackObj) or value is None:\n",
    "            self.__next = value\n",
    "        \n",
    "class Stack:\n",
    "    def __init__(self):\n",
    "        self.top = None\n",
    "        self.last = None\n",
    "\n",
    "    def push(self, obj):\n",
    "        if self.last:\n",
    "            self.last.next = obj\n",
    "        self.last = obj\n",
    "        if self.top is None:\n",
    "            self.top = obj\n",
    "\n",
    "    def pop(self):\n",
    "        high = self.top\n",
    "        if high is None:\n",
    "            return\n",
    "        while high and high.next != self.last:\n",
    "            high = high.next\n",
    "        if high:\n",
    "            high.next = None\n",
    "        last = self.last\n",
    "        self.last = high\n",
    "        if self.last is None:\n",
    "            self.top = None\n",
    "\n",
    "        return last\n",
    "\n",
    "    def get_data(self):\n",
    "        res = []\n",
    "        high = self.top\n",
    "        while high:\n",
    "            res.append(high.data)\n",
    "            high = high.next\n",
    "        return res\n",
    "        \n",
    "\n",
    "st = Stack()\n",
    "st.push(StackObj(\"obj1\"))\n",
    "st.push(StackObj(\"obj2\"))\n",
    "st.push(StackObj(\"obj3\"))\n",
    "st.pop()\n",
    "res = st.get_data()    # ['obj1', 'obj2']\n",
    "print(res)"
   ]
  },
  {
   "cell_type": "code",
   "execution_count": 4,
   "id": "461c8c22-718b-4a98-94d9-2624779337c6",
   "metadata": {},
   "outputs": [
    {
     "name": "stdout",
     "output_type": "stream",
     "text": [
      "<__main__.RadiusVector2D object at 0x7f9ce70b3e50> <__main__.RadiusVector2D object at 0x7f9ce70acd90> <__main__.RadiusVector2D object at 0x7f9ce70adfd0>\n"
     ]
    }
   ],
   "source": [
    "class RadiusVector2D:\n",
    "    MIN_COORD = -100\n",
    "    MAX_COORD = 1024\n",
    "    def __init__(self, x=0, y=0):\n",
    "        self.__x = self.__y = 0\n",
    "        self.x = x\n",
    "        self.y = y\n",
    "\n",
    "        \n",
    "    @classmethod\n",
    "    def __is_verify(cls, value):\n",
    "        return isinstance(value, (int, float)) and cls.MIN_COORD <= value <= cls.MAX_COORD\n",
    "        \n",
    "        \n",
    "\n",
    "    @property\n",
    "    def x(self):\n",
    "        return self.__x\n",
    "\n",
    "    @x.setter\n",
    "    def x(self, value):\n",
    "        if self.__is_verify(value):\n",
    "            self.__x = value\n",
    "\n",
    "    @property\n",
    "    def y(self):\n",
    "        return self.__y\n",
    "\n",
    "    @y.setter\n",
    "    def y(self, value):\n",
    "        if self.__is_verify(value):\n",
    "            self.__y = value\n",
    "\n",
    "    @staticmethod\n",
    "    def norm2(vector):\n",
    "        return vector.x * vector.x + vector.y * vector.y\n",
    "        \n",
    "\n",
    "v1 = RadiusVector2D()        # радиус-вектор с координатами (0; 0)\n",
    "v2 = RadiusVector2D(1)       # радиус-вектор с координатами (1; 0)\n",
    "v3 = RadiusVector2D(1, 2)    # радиус-вектор с координатами (1; 2)\n",
    "print(v1, v2, v3)"
   ]
  },
  {
   "cell_type": "code",
   "execution_count": 18,
   "id": "2ce60255-6083-4537-a0ae-5ab388c4b37a",
   "metadata": {},
   "outputs": [
    {
     "name": "stdout",
     "output_type": "stream",
     "text": [
      "[<__main__.PhoneNumber object at 0x7f9ce411c3d0>, <__main__.PhoneNumber object at 0x7f9ce4153b90>]\n"
     ]
    }
   ],
   "source": [
    "class PhoneBook:\n",
    "    def __init__(self):\n",
    "        self.phones = []\n",
    "\n",
    "    def add_phone(self, phone):\n",
    "        self.phones.append(phone)\n",
    "\n",
    "    def remove_phone(index):\n",
    "        del self.phone_list[index]\n",
    "\n",
    "    def get_phone_list(self):\n",
    "        return self.phones\n",
    "\n",
    "\n",
    "class PhoneNumber:\n",
    "\n",
    "    def __init__(self, number, fio):\n",
    "        if len(str(number)) == 1 and type(number) == int:\n",
    "            self.number = number\n",
    "        elif type(fio) == str:\n",
    "            self.fio = fio\n",
    "        else:\n",
    "            print('Incorrect data!!!')\n",
    "\n",
    "\n",
    "p = PhoneBook()\n",
    "p.add_phone(PhoneNumber(12345678901, \"Сергей Балакирев\"))\n",
    "p.add_phone(PhoneNumber(21345678901, \"Панда\"))\n",
    "phones = p.get_phone_list()\n",
    "print(phones)\n",
    "    "
   ]
  },
  {
   "cell_type": "code",
   "execution_count": null,
   "id": "6a0b0a9e-45bc-4a08-9f99-90d2d61d4abf",
   "metadata": {},
   "outputs": [],
   "source": []
  },
  {
   "cell_type": "code",
   "execution_count": null,
   "id": "b7f5e13e-b258-41d3-9f85-76a0264eb937",
   "metadata": {},
   "outputs": [],
   "source": []
  },
  {
   "cell_type": "code",
   "execution_count": null,
   "id": "6d796a8e-f687-4231-8bdb-7e63b253e0ae",
   "metadata": {},
   "outputs": [],
   "source": []
  },
  {
   "cell_type": "code",
   "execution_count": null,
   "id": "d294fd0a-0d82-4310-97f0-9c0eacdf7218",
   "metadata": {},
   "outputs": [],
   "source": []
  },
  {
   "cell_type": "code",
   "execution_count": null,
   "id": "9c15970e-9eaa-44dd-b925-87e9bb95dae2",
   "metadata": {},
   "outputs": [],
   "source": []
  },
  {
   "cell_type": "code",
   "execution_count": null,
   "id": "311281d0-1559-40f3-bfc4-95ef8da25c24",
   "metadata": {},
   "outputs": [],
   "source": []
  },
  {
   "cell_type": "code",
   "execution_count": null,
   "id": "e2013c7a-586e-4341-be2d-c3fff2d1c38b",
   "metadata": {},
   "outputs": [],
   "source": []
  },
  {
   "cell_type": "code",
   "execution_count": null,
   "id": "216cddf7-42dd-48cd-8a0e-e94ca3f82964",
   "metadata": {},
   "outputs": [],
   "source": []
  },
  {
   "cell_type": "code",
   "execution_count": null,
   "id": "c50e3f5f-e6ef-4977-bd70-1c8f7adbb409",
   "metadata": {},
   "outputs": [],
   "source": []
  },
  {
   "cell_type": "code",
   "execution_count": null,
   "id": "17867cb7-d86e-426b-9966-a91e0e114d93",
   "metadata": {},
   "outputs": [],
   "source": []
  },
  {
   "cell_type": "code",
   "execution_count": null,
   "id": "c59e3709-4dd6-4f3f-a52a-d9acf01bf859",
   "metadata": {},
   "outputs": [],
   "source": []
  }
 ],
 "metadata": {
  "kernelspec": {
   "display_name": "Python 3 (ipykernel)",
   "language": "python",
   "name": "python3"
  },
  "language_info": {
   "codemirror_mode": {
    "name": "ipython",
    "version": 3
   },
   "file_extension": ".py",
   "mimetype": "text/x-python",
   "name": "python",
   "nbconvert_exporter": "python",
   "pygments_lexer": "ipython3",
   "version": "3.11.5"
  }
 },
 "nbformat": 4,
 "nbformat_minor": 5
}
