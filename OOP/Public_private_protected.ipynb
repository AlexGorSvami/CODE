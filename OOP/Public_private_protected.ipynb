{
 "cells": [
  {
   "cell_type": "markdown",
   "id": "9ad0f9e6-14e7-4b1b-ae43-d782c99d9c63",
   "metadata": {},
   "source": [
    "# Механизм инкапсуляции"
   ]
  },
  {
   "cell_type": "markdown",
   "id": "57cc8434-74a4-4615-a34f-517c97a9b889",
   "metadata": {},
   "source": [
    "## Инкапсуляция - это ограничение доступа к данным и методам класса извне"
   ]
  },
  {
   "cell_type": "markdown",
   "id": "385d32c9-6dc5-4535-ba1b-746f06ecb04a",
   "metadata": {},
   "source": [
    "### В Python возможны следующие варинаты доступа к данным:\n",
    "\n",
    "- attribute(без одного или двух подчёркиваний вначале) - публичное свойство(public)\n",
    "- _attribute(c одним подчёркованием) - режим доступа protected (служите для обращения\n",
    "  внутри класса и во всех его дочерних классах)\n",
    "- _attribute (с двумя полчеркиваниями) - режим доступа private (cлужит для обращения только внутри класса)"
   ]
  },
  {
   "cell_type": "code",
   "execution_count": 2,
   "id": "2d9f70b2-5e02-490d-8cce-f22a28d99c76",
   "metadata": {},
   "outputs": [
    {
     "name": "stdout",
     "output_type": "stream",
     "text": [
      "1 2\n"
     ]
    }
   ],
   "source": [
    "class Point:\n",
    "    def __init__(self, x=0, y=0):\n",
    "        self._x = x\n",
    "        self._y = y\n",
    "\n",
    "pt = Point(1,2)\n",
    "print(pt._x, pt._y)\n"
   ]
  },
  {
   "cell_type": "code",
   "execution_count": 5,
   "id": "abd90435-d6f1-4f8e-9e44-a37bc5f863eb",
   "metadata": {},
   "outputs": [
    {
     "name": "stdout",
     "output_type": "stream",
     "text": [
      "{'_Point__x': 3, '_Point__y': 4}\n"
     ]
    }
   ],
   "source": [
    "class Point:\n",
    "    def __init__(self, x=0, y=0):\n",
    "        self.__x = x\n",
    "        self.__y = y\n",
    "\n",
    "pt = Point(3,4)\n",
    "print(pt.__dict__)"
   ]
  },
  {
   "cell_type": "code",
   "execution_count": 9,
   "id": "3ab9d791-54fa-4617-94ad-380f6da7c0a0",
   "metadata": {},
   "outputs": [
    {
     "name": "stdout",
     "output_type": "stream",
     "text": [
      "(3, 4)\n",
      "(12, 15)\n"
     ]
    }
   ],
   "source": [
    "class Point:\n",
    "    def __init__(self, x=0, y=0):\n",
    "        self.__x = x\n",
    "        self.__y = y\n",
    "        \n",
    "    def set_coord(self, x, y):\n",
    "        if type(x) in (int, float) and type(y) in (int, float):\n",
    "            self.__x = x\n",
    "            self.__y = y\n",
    "        else:\n",
    "            raise ValueError('Координаты должны быть числами!')\n",
    "\n",
    "    def get_coord(self):\n",
    "        return self.__x, self.__y\n",
    "\n",
    "        \n",
    "pt = Point(3,4)\n",
    "print(pt.get_coord())\n",
    "pt.set_coord(12,15)\n",
    "print(pt.get_coord())"
   ]
  },
  {
   "cell_type": "code",
   "execution_count": 11,
   "id": "3bf79c4e-5150-4d91-9733-336ea032de45",
   "metadata": {},
   "outputs": [
    {
     "name": "stdout",
     "output_type": "stream",
     "text": [
      "(3, 4)\n",
      "(12, 15)\n"
     ]
    }
   ],
   "source": [
    "class Point:\n",
    "    def __init__(self, x=0, y=0):\n",
    "        self.__x = x\n",
    "        self.__y = y\n",
    "\n",
    "    @classmethod\n",
    "    def __check_value(cls, x):\n",
    "        return type(x) in (int, float)\n",
    "        \n",
    "    def set_coord(self, x, y):\n",
    "        if self.__check_value(x) and self.__check_value(y) :\n",
    "            self.__x = x\n",
    "            self.__y = y\n",
    "        else:\n",
    "            raise ValueError('Координаты должны быть числами!')\n",
    "\n",
    "    def get_coord(self):\n",
    "        return self.__x, self.__y\n",
    "\n",
    "\n",
    "        \n",
    "pt = Point(3,4)\n",
    "print(pt.get_coord())\n",
    "pt.set_coord(12,15)\n",
    "print(pt.get_coord())"
   ]
  },
  {
   "cell_type": "code",
   "execution_count": 31,
   "id": "45b4d163-298f-448d-bb02-f94956b52c29",
   "metadata": {},
   "outputs": [
    {
     "name": "stdout",
     "output_type": "stream",
     "text": [
      "100\n",
      "120\n"
     ]
    }
   ],
   "source": [
    "class Money:\n",
    "\n",
    "    def __init__(self, money):\n",
    "        self.__money = money\n",
    "\n",
    "    @classmethod\n",
    "    def check_money(cls, money):\n",
    "        return type(money) == int and money >=0\n",
    "\n",
    "    def set_money(self, money):\n",
    "        if self.check_money(money):\n",
    "            self.__money = money\n",
    "\n",
    "    def get_money(self):\n",
    "        return self.__money\n",
    "\n",
    "    def add_money(self, mn):\n",
    "        self.__money += mn.get_money()\n",
    "        \n",
    "\n",
    "\n",
    "\n",
    "mn_1 = Money(10)\n",
    "mn_2 = Money(20)\n",
    "mn_1.set_money(100)\n",
    "mn_2.add_money(mn_1)\n",
    "m1 = mn_1.get_money()    # 100\n",
    "m2 = mn_2.get_money() \n",
    "print(m1)\n",
    "print(m2)"
   ]
  },
  {
   "cell_type": "code",
   "execution_count": null,
   "id": "c946daeb-3f15-42dd-8cc8-60638985d31b",
   "metadata": {},
   "outputs": [],
   "source": []
  },
  {
   "cell_type": "code",
   "execution_count": null,
   "id": "6476d57a-8b8b-43b3-b4ce-11154e55e300",
   "metadata": {},
   "outputs": [],
   "source": []
  },
  {
   "cell_type": "code",
   "execution_count": null,
   "id": "7ee91fab-ff76-40f0-9e31-f08df8e9db68",
   "metadata": {},
   "outputs": [],
   "source": []
  },
  {
   "cell_type": "code",
   "execution_count": null,
   "id": "9b3c5ac1-0958-4970-ac97-a11a7d9a2447",
   "metadata": {},
   "outputs": [],
   "source": []
  },
  {
   "cell_type": "code",
   "execution_count": null,
   "id": "88e475c4-76a4-4058-a22f-fab9818a13cc",
   "metadata": {},
   "outputs": [],
   "source": []
  },
  {
   "cell_type": "code",
   "execution_count": null,
   "id": "3fa09ce3-27a8-430b-841e-88207d5ebb50",
   "metadata": {},
   "outputs": [],
   "source": []
  },
  {
   "cell_type": "code",
   "execution_count": null,
   "id": "0ae6002b-a3e1-4664-97b0-b839010f0e71",
   "metadata": {},
   "outputs": [],
   "source": []
  },
  {
   "cell_type": "code",
   "execution_count": null,
   "id": "1c95cb05-0ec6-469e-9e8f-8aee9a54989e",
   "metadata": {},
   "outputs": [],
   "source": []
  }
 ],
 "metadata": {
  "kernelspec": {
   "display_name": "Python 3 (ipykernel)",
   "language": "python",
   "name": "python3"
  },
  "language_info": {
   "codemirror_mode": {
    "name": "ipython",
    "version": 3
   },
   "file_extension": ".py",
   "mimetype": "text/x-python",
   "name": "python",
   "nbconvert_exporter": "python",
   "pygments_lexer": "ipython3",
   "version": "3.11.5"
  }
 },
 "nbformat": 4,
 "nbformat_minor": 5
}
